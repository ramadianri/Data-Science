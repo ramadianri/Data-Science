{
 "cells": [
  {
   "cell_type": "markdown",
   "execution_count": null,
   "metadata": {
    "papermill": {
     "duration": 0.015607,
     "end_time": "2020-09-01T14:21:21.835529",
     "exception": false,
     "start_time": "2020-09-01T14:21:21.819922",
     "status": "completed"
    },
    "tags": []
   },
   "source": [
    "In [this dataset](https://www.kaggle.com/altruistdelhite04/loan-prediction-problem-dataset), we need to predict whether or not to approve a loan based on the past information of the person. This is a classification problem and we will use machine learning, Decision Tree Classifier model, to make the prediction."
   ]
  },
  {
   "cell_type": "markdown",
   "execution_count": null,
   "metadata": {
    "papermill": {
     "duration": 0.012917,
     "end_time": "2020-09-01T14:21:21.864262",
     "exception": false,
     "start_time": "2020-09-01T14:21:21.851345",
     "status": "completed"
    },
    "tags": []
   },
   "source": [
    "# Import Libraries\n",
    "First, we import necessary libraries, such as:"
   ]
  },
  {
   "cell_type": "code",
   "execution_count": 1,
   "metadata": {
    "_cell_guid": "b1076dfc-b9ad-4769-8c92-a6c4dae69d19",
    "_uuid": "8f2839f25d086af736a60e9eeb907d3b93b6e0e5",
    "execution": {
     "iopub.execute_input": "2020-09-01T14:21:21.902524Z",
     "iopub.status.busy": "2020-09-01T14:21:21.901694Z",
     "iopub.status.idle": "2020-09-01T14:21:23.090185Z",
     "shell.execute_reply": "2020-09-01T14:21:23.089221Z"
    },
    "papermill": {
     "duration": 1.212698,
     "end_time": "2020-09-01T14:21:23.090345",
     "exception": false,
     "start_time": "2020-09-01T14:21:21.877647",
     "status": "completed"
    },
    "tags": []
   },
   "outputs": [],
   "source": [
    "import numpy as np\n",
    "import pandas as pd\n",
    "import matplotlib.pyplot as plt\n",
    "%matplotlib inline\n",
    "import seaborn as sns\n",
    "sns.set()\n",
    "\n",
    "import warnings\n",
    "warnings.filterwarnings('ignore')"
   ]
  },
  {
   "cell_type": "markdown",
   "execution_count": null,
   "metadata": {
    "papermill": {
     "duration": 0.013483,
     "end_time": "2020-09-01T14:21:23.117624",
     "exception": false,
     "start_time": "2020-09-01T14:21:23.104141",
     "status": "completed"
    },
    "tags": []
   },
   "source": [
    "# Import The Data"
   ]
  },
  {
   "cell_type": "code",
   "execution_count": 2,
   "metadata": {
    "_cell_guid": "79c7e3d0-c299-4dcb-8224-4455121ee9b0",
    "_uuid": "d629ff2d2480ee46fbb7e2d37f6b5fab8052498a",
    "execution": {
     "iopub.execute_input": "2020-09-01T14:21:23.155737Z",
     "iopub.status.busy": "2020-09-01T14:21:23.154776Z",
     "iopub.status.idle": "2020-09-01T14:21:23.170725Z",
     "shell.execute_reply": "2020-09-01T14:21:23.170067Z"
    },
    "papermill": {
     "duration": 0.039706,
     "end_time": "2020-09-01T14:21:23.170854",
     "exception": false,
     "start_time": "2020-09-01T14:21:23.131148",
     "status": "completed"
    },
    "tags": []
   },
   "outputs": [],
   "source": [
    "train = pd.read_csv('/kaggle/input/loan-prediction-problem-dataset/train_u6lujuX_CVtuZ9i.csv')"
   ]
  },
  {
   "cell_type": "markdown",
   "execution_count": null,
   "metadata": {
    "papermill": {
     "duration": 0.0133,
     "end_time": "2020-09-01T14:21:23.198035",
     "exception": false,
     "start_time": "2020-09-01T14:21:23.184735",
     "status": "completed"
    },
    "tags": []
   },
   "source": [
    "# Read The Data\n",
    "First, let's see the first 5 rows to familiarize ourself with the data."
   ]
  },
  {
   "cell_type": "code",
   "execution_count": 3,
   "metadata": {
    "execution": {
     "iopub.execute_input": "2020-09-01T14:21:23.246026Z",
     "iopub.status.busy": "2020-09-01T14:21:23.234111Z",
     "iopub.status.idle": "2020-09-01T14:21:23.261985Z",
     "shell.execute_reply": "2020-09-01T14:21:23.262692Z"
    },
    "papermill": {
     "duration": 0.051322,
     "end_time": "2020-09-01T14:21:23.262865",
     "exception": false,
     "start_time": "2020-09-01T14:21:23.211543",
     "status": "completed"
    },
    "tags": []
   },
   "outputs": [
    {
     "data": {
      "text/html": [
       "<div>\n",
       "<style scoped>\n",
       "    .dataframe tbody tr th:only-of-type {\n",
       "        vertical-align: middle;\n",
       "    }\n",
       "\n",
       "    .dataframe tbody tr th {\n",
       "        vertical-align: top;\n",
       "    }\n",
       "\n",
       "    .dataframe thead th {\n",
       "        text-align: right;\n",
       "    }\n",
       "</style>\n",
       "<table border=\"1\" class=\"dataframe\">\n",
       "  <thead>\n",
       "    <tr style=\"text-align: right;\">\n",
       "      <th></th>\n",
       "      <th>Loan_ID</th>\n",
       "      <th>Gender</th>\n",
       "      <th>Married</th>\n",
       "      <th>Dependents</th>\n",
       "      <th>Education</th>\n",
       "      <th>Self_Employed</th>\n",
       "      <th>ApplicantIncome</th>\n",
       "      <th>CoapplicantIncome</th>\n",
       "      <th>LoanAmount</th>\n",
       "      <th>Loan_Amount_Term</th>\n",
       "      <th>Credit_History</th>\n",
       "      <th>Property_Area</th>\n",
       "      <th>Loan_Status</th>\n",
       "    </tr>\n",
       "  </thead>\n",
       "  <tbody>\n",
       "    <tr>\n",
       "      <th>0</th>\n",
       "      <td>LP001002</td>\n",
       "      <td>Male</td>\n",
       "      <td>No</td>\n",
       "      <td>0</td>\n",
       "      <td>Graduate</td>\n",
       "      <td>No</td>\n",
       "      <td>5849</td>\n",
       "      <td>0.0</td>\n",
       "      <td>NaN</td>\n",
       "      <td>360.0</td>\n",
       "      <td>1.0</td>\n",
       "      <td>Urban</td>\n",
       "      <td>Y</td>\n",
       "    </tr>\n",
       "    <tr>\n",
       "      <th>1</th>\n",
       "      <td>LP001003</td>\n",
       "      <td>Male</td>\n",
       "      <td>Yes</td>\n",
       "      <td>1</td>\n",
       "      <td>Graduate</td>\n",
       "      <td>No</td>\n",
       "      <td>4583</td>\n",
       "      <td>1508.0</td>\n",
       "      <td>128.0</td>\n",
       "      <td>360.0</td>\n",
       "      <td>1.0</td>\n",
       "      <td>Rural</td>\n",
       "      <td>N</td>\n",
       "    </tr>\n",
       "    <tr>\n",
       "      <th>2</th>\n",
       "      <td>LP001005</td>\n",
       "      <td>Male</td>\n",
       "      <td>Yes</td>\n",
       "      <td>0</td>\n",
       "      <td>Graduate</td>\n",
       "      <td>Yes</td>\n",
       "      <td>3000</td>\n",
       "      <td>0.0</td>\n",
       "      <td>66.0</td>\n",
       "      <td>360.0</td>\n",
       "      <td>1.0</td>\n",
       "      <td>Urban</td>\n",
       "      <td>Y</td>\n",
       "    </tr>\n",
       "    <tr>\n",
       "      <th>3</th>\n",
       "      <td>LP001006</td>\n",
       "      <td>Male</td>\n",
       "      <td>Yes</td>\n",
       "      <td>0</td>\n",
       "      <td>Not Graduate</td>\n",
       "      <td>No</td>\n",
       "      <td>2583</td>\n",
       "      <td>2358.0</td>\n",
       "      <td>120.0</td>\n",
       "      <td>360.0</td>\n",
       "      <td>1.0</td>\n",
       "      <td>Urban</td>\n",
       "      <td>Y</td>\n",
       "    </tr>\n",
       "    <tr>\n",
       "      <th>4</th>\n",
       "      <td>LP001008</td>\n",
       "      <td>Male</td>\n",
       "      <td>No</td>\n",
       "      <td>0</td>\n",
       "      <td>Graduate</td>\n",
       "      <td>No</td>\n",
       "      <td>6000</td>\n",
       "      <td>0.0</td>\n",
       "      <td>141.0</td>\n",
       "      <td>360.0</td>\n",
       "      <td>1.0</td>\n",
       "      <td>Urban</td>\n",
       "      <td>Y</td>\n",
       "    </tr>\n",
       "  </tbody>\n",
       "</table>\n",
       "</div>"
      ],
      "text/plain": [
       "    Loan_ID Gender Married Dependents     Education Self_Employed  \\\n",
       "0  LP001002   Male      No          0      Graduate            No   \n",
       "1  LP001003   Male     Yes          1      Graduate            No   \n",
       "2  LP001005   Male     Yes          0      Graduate           Yes   \n",
       "3  LP001006   Male     Yes          0  Not Graduate            No   \n",
       "4  LP001008   Male      No          0      Graduate            No   \n",
       "\n",
       "   ApplicantIncome  CoapplicantIncome  LoanAmount  Loan_Amount_Term  \\\n",
       "0             5849                0.0         NaN             360.0   \n",
       "1             4583             1508.0       128.0             360.0   \n",
       "2             3000                0.0        66.0             360.0   \n",
       "3             2583             2358.0       120.0             360.0   \n",
       "4             6000                0.0       141.0             360.0   \n",
       "\n",
       "   Credit_History Property_Area Loan_Status  \n",
       "0             1.0         Urban           Y  \n",
       "1             1.0         Rural           N  \n",
       "2             1.0         Urban           Y  \n",
       "3             1.0         Urban           Y  \n",
       "4             1.0         Urban           Y  "
      ]
     },
     "execution_count": 3,
     "metadata": {},
     "output_type": "execute_result"
    }
   ],
   "source": [
    "train.head()"
   ]
  },
  {
   "cell_type": "markdown",
   "execution_count": null,
   "metadata": {
    "papermill": {
     "duration": 0.014353,
     "end_time": "2020-09-01T14:21:23.292187",
     "exception": false,
     "start_time": "2020-09-01T14:21:23.277834",
     "status": "completed"
    },
    "tags": []
   },
   "source": [
    "To get more details, we are going to print ```info()``` and ```describe()``` to make a quick observation and gain some insight from it."
   ]
  },
  {
   "cell_type": "code",
   "execution_count": 4,
   "metadata": {
    "execution": {
     "iopub.execute_input": "2020-09-01T14:21:23.342024Z",
     "iopub.status.busy": "2020-09-01T14:21:23.341112Z",
     "iopub.status.idle": "2020-09-01T14:21:23.346013Z",
     "shell.execute_reply": "2020-09-01T14:21:23.345317Z"
    },
    "papermill": {
     "duration": 0.039625,
     "end_time": "2020-09-01T14:21:23.346171",
     "exception": false,
     "start_time": "2020-09-01T14:21:23.306546",
     "status": "completed"
    },
    "tags": []
   },
   "outputs": [
    {
     "name": "stdout",
     "output_type": "stream",
     "text": [
      "<class 'pandas.core.frame.DataFrame'>\n",
      "RangeIndex: 614 entries, 0 to 613\n",
      "Data columns (total 13 columns):\n",
      " #   Column             Non-Null Count  Dtype  \n",
      "---  ------             --------------  -----  \n",
      " 0   Loan_ID            614 non-null    object \n",
      " 1   Gender             601 non-null    object \n",
      " 2   Married            611 non-null    object \n",
      " 3   Dependents         599 non-null    object \n",
      " 4   Education          614 non-null    object \n",
      " 5   Self_Employed      582 non-null    object \n",
      " 6   ApplicantIncome    614 non-null    int64  \n",
      " 7   CoapplicantIncome  614 non-null    float64\n",
      " 8   LoanAmount         592 non-null    float64\n",
      " 9   Loan_Amount_Term   600 non-null    float64\n",
      " 10  Credit_History     564 non-null    float64\n",
      " 11  Property_Area      614 non-null    object \n",
      " 12  Loan_Status        614 non-null    object \n",
      "dtypes: float64(4), int64(1), object(8)\n",
      "memory usage: 62.5+ KB\n"
     ]
    }
   ],
   "source": [
    "train.info()"
   ]
  },
  {
   "cell_type": "code",
   "execution_count": 5,
   "metadata": {
    "execution": {
     "iopub.execute_input": "2020-09-01T14:21:23.382839Z",
     "iopub.status.busy": "2020-09-01T14:21:23.381995Z",
     "iopub.status.idle": "2020-09-01T14:21:23.466854Z",
     "shell.execute_reply": "2020-09-01T14:21:23.466146Z"
    },
    "papermill": {
     "duration": 0.106097,
     "end_time": "2020-09-01T14:21:23.466995",
     "exception": false,
     "start_time": "2020-09-01T14:21:23.360898",
     "status": "completed"
    },
    "tags": []
   },
   "outputs": [
    {
     "data": {
      "text/html": [
       "<div>\n",
       "<style scoped>\n",
       "    .dataframe tbody tr th:only-of-type {\n",
       "        vertical-align: middle;\n",
       "    }\n",
       "\n",
       "    .dataframe tbody tr th {\n",
       "        vertical-align: top;\n",
       "    }\n",
       "\n",
       "    .dataframe thead th {\n",
       "        text-align: right;\n",
       "    }\n",
       "</style>\n",
       "<table border=\"1\" class=\"dataframe\">\n",
       "  <thead>\n",
       "    <tr style=\"text-align: right;\">\n",
       "      <th></th>\n",
       "      <th>Loan_ID</th>\n",
       "      <th>Gender</th>\n",
       "      <th>Married</th>\n",
       "      <th>Dependents</th>\n",
       "      <th>Education</th>\n",
       "      <th>Self_Employed</th>\n",
       "      <th>ApplicantIncome</th>\n",
       "      <th>CoapplicantIncome</th>\n",
       "      <th>LoanAmount</th>\n",
       "      <th>Loan_Amount_Term</th>\n",
       "      <th>Credit_History</th>\n",
       "      <th>Property_Area</th>\n",
       "      <th>Loan_Status</th>\n",
       "    </tr>\n",
       "  </thead>\n",
       "  <tbody>\n",
       "    <tr>\n",
       "      <th>count</th>\n",
       "      <td>614</td>\n",
       "      <td>601</td>\n",
       "      <td>611</td>\n",
       "      <td>599</td>\n",
       "      <td>614</td>\n",
       "      <td>582</td>\n",
       "      <td>614.000000</td>\n",
       "      <td>614.000000</td>\n",
       "      <td>592.000000</td>\n",
       "      <td>600.00000</td>\n",
       "      <td>564.000000</td>\n",
       "      <td>614</td>\n",
       "      <td>614</td>\n",
       "    </tr>\n",
       "    <tr>\n",
       "      <th>unique</th>\n",
       "      <td>614</td>\n",
       "      <td>2</td>\n",
       "      <td>2</td>\n",
       "      <td>4</td>\n",
       "      <td>2</td>\n",
       "      <td>2</td>\n",
       "      <td>NaN</td>\n",
       "      <td>NaN</td>\n",
       "      <td>NaN</td>\n",
       "      <td>NaN</td>\n",
       "      <td>NaN</td>\n",
       "      <td>3</td>\n",
       "      <td>2</td>\n",
       "    </tr>\n",
       "    <tr>\n",
       "      <th>top</th>\n",
       "      <td>LP002239</td>\n",
       "      <td>Male</td>\n",
       "      <td>Yes</td>\n",
       "      <td>0</td>\n",
       "      <td>Graduate</td>\n",
       "      <td>No</td>\n",
       "      <td>NaN</td>\n",
       "      <td>NaN</td>\n",
       "      <td>NaN</td>\n",
       "      <td>NaN</td>\n",
       "      <td>NaN</td>\n",
       "      <td>Semiurban</td>\n",
       "      <td>Y</td>\n",
       "    </tr>\n",
       "    <tr>\n",
       "      <th>freq</th>\n",
       "      <td>1</td>\n",
       "      <td>489</td>\n",
       "      <td>398</td>\n",
       "      <td>345</td>\n",
       "      <td>480</td>\n",
       "      <td>500</td>\n",
       "      <td>NaN</td>\n",
       "      <td>NaN</td>\n",
       "      <td>NaN</td>\n",
       "      <td>NaN</td>\n",
       "      <td>NaN</td>\n",
       "      <td>233</td>\n",
       "      <td>422</td>\n",
       "    </tr>\n",
       "    <tr>\n",
       "      <th>mean</th>\n",
       "      <td>NaN</td>\n",
       "      <td>NaN</td>\n",
       "      <td>NaN</td>\n",
       "      <td>NaN</td>\n",
       "      <td>NaN</td>\n",
       "      <td>NaN</td>\n",
       "      <td>5403.459283</td>\n",
       "      <td>1621.245798</td>\n",
       "      <td>146.412162</td>\n",
       "      <td>342.00000</td>\n",
       "      <td>0.842199</td>\n",
       "      <td>NaN</td>\n",
       "      <td>NaN</td>\n",
       "    </tr>\n",
       "    <tr>\n",
       "      <th>std</th>\n",
       "      <td>NaN</td>\n",
       "      <td>NaN</td>\n",
       "      <td>NaN</td>\n",
       "      <td>NaN</td>\n",
       "      <td>NaN</td>\n",
       "      <td>NaN</td>\n",
       "      <td>6109.041673</td>\n",
       "      <td>2926.248369</td>\n",
       "      <td>85.587325</td>\n",
       "      <td>65.12041</td>\n",
       "      <td>0.364878</td>\n",
       "      <td>NaN</td>\n",
       "      <td>NaN</td>\n",
       "    </tr>\n",
       "    <tr>\n",
       "      <th>min</th>\n",
       "      <td>NaN</td>\n",
       "      <td>NaN</td>\n",
       "      <td>NaN</td>\n",
       "      <td>NaN</td>\n",
       "      <td>NaN</td>\n",
       "      <td>NaN</td>\n",
       "      <td>150.000000</td>\n",
       "      <td>0.000000</td>\n",
       "      <td>9.000000</td>\n",
       "      <td>12.00000</td>\n",
       "      <td>0.000000</td>\n",
       "      <td>NaN</td>\n",
       "      <td>NaN</td>\n",
       "    </tr>\n",
       "    <tr>\n",
       "      <th>25%</th>\n",
       "      <td>NaN</td>\n",
       "      <td>NaN</td>\n",
       "      <td>NaN</td>\n",
       "      <td>NaN</td>\n",
       "      <td>NaN</td>\n",
       "      <td>NaN</td>\n",
       "      <td>2877.500000</td>\n",
       "      <td>0.000000</td>\n",
       "      <td>100.000000</td>\n",
       "      <td>360.00000</td>\n",
       "      <td>1.000000</td>\n",
       "      <td>NaN</td>\n",
       "      <td>NaN</td>\n",
       "    </tr>\n",
       "    <tr>\n",
       "      <th>50%</th>\n",
       "      <td>NaN</td>\n",
       "      <td>NaN</td>\n",
       "      <td>NaN</td>\n",
       "      <td>NaN</td>\n",
       "      <td>NaN</td>\n",
       "      <td>NaN</td>\n",
       "      <td>3812.500000</td>\n",
       "      <td>1188.500000</td>\n",
       "      <td>128.000000</td>\n",
       "      <td>360.00000</td>\n",
       "      <td>1.000000</td>\n",
       "      <td>NaN</td>\n",
       "      <td>NaN</td>\n",
       "    </tr>\n",
       "    <tr>\n",
       "      <th>75%</th>\n",
       "      <td>NaN</td>\n",
       "      <td>NaN</td>\n",
       "      <td>NaN</td>\n",
       "      <td>NaN</td>\n",
       "      <td>NaN</td>\n",
       "      <td>NaN</td>\n",
       "      <td>5795.000000</td>\n",
       "      <td>2297.250000</td>\n",
       "      <td>168.000000</td>\n",
       "      <td>360.00000</td>\n",
       "      <td>1.000000</td>\n",
       "      <td>NaN</td>\n",
       "      <td>NaN</td>\n",
       "    </tr>\n",
       "    <tr>\n",
       "      <th>max</th>\n",
       "      <td>NaN</td>\n",
       "      <td>NaN</td>\n",
       "      <td>NaN</td>\n",
       "      <td>NaN</td>\n",
       "      <td>NaN</td>\n",
       "      <td>NaN</td>\n",
       "      <td>81000.000000</td>\n",
       "      <td>41667.000000</td>\n",
       "      <td>700.000000</td>\n",
       "      <td>480.00000</td>\n",
       "      <td>1.000000</td>\n",
       "      <td>NaN</td>\n",
       "      <td>NaN</td>\n",
       "    </tr>\n",
       "  </tbody>\n",
       "</table>\n",
       "</div>"
      ],
      "text/plain": [
       "         Loan_ID Gender Married Dependents Education Self_Employed  \\\n",
       "count        614    601     611        599       614           582   \n",
       "unique       614      2       2          4         2             2   \n",
       "top     LP002239   Male     Yes          0  Graduate            No   \n",
       "freq           1    489     398        345       480           500   \n",
       "mean         NaN    NaN     NaN        NaN       NaN           NaN   \n",
       "std          NaN    NaN     NaN        NaN       NaN           NaN   \n",
       "min          NaN    NaN     NaN        NaN       NaN           NaN   \n",
       "25%          NaN    NaN     NaN        NaN       NaN           NaN   \n",
       "50%          NaN    NaN     NaN        NaN       NaN           NaN   \n",
       "75%          NaN    NaN     NaN        NaN       NaN           NaN   \n",
       "max          NaN    NaN     NaN        NaN       NaN           NaN   \n",
       "\n",
       "        ApplicantIncome  CoapplicantIncome  LoanAmount  Loan_Amount_Term  \\\n",
       "count        614.000000         614.000000  592.000000         600.00000   \n",
       "unique              NaN                NaN         NaN               NaN   \n",
       "top                 NaN                NaN         NaN               NaN   \n",
       "freq                NaN                NaN         NaN               NaN   \n",
       "mean        5403.459283        1621.245798  146.412162         342.00000   \n",
       "std         6109.041673        2926.248369   85.587325          65.12041   \n",
       "min          150.000000           0.000000    9.000000          12.00000   \n",
       "25%         2877.500000           0.000000  100.000000         360.00000   \n",
       "50%         3812.500000        1188.500000  128.000000         360.00000   \n",
       "75%         5795.000000        2297.250000  168.000000         360.00000   \n",
       "max        81000.000000       41667.000000  700.000000         480.00000   \n",
       "\n",
       "        Credit_History Property_Area Loan_Status  \n",
       "count       564.000000           614         614  \n",
       "unique             NaN             3           2  \n",
       "top                NaN     Semiurban           Y  \n",
       "freq               NaN           233         422  \n",
       "mean          0.842199           NaN         NaN  \n",
       "std           0.364878           NaN         NaN  \n",
       "min           0.000000           NaN         NaN  \n",
       "25%           1.000000           NaN         NaN  \n",
       "50%           1.000000           NaN         NaN  \n",
       "75%           1.000000           NaN         NaN  \n",
       "max           1.000000           NaN         NaN  "
      ]
     },
     "execution_count": 5,
     "metadata": {},
     "output_type": "execute_result"
    }
   ],
   "source": [
    "train.describe(include='all')"
   ]
  },
  {
   "cell_type": "code",
   "execution_count": 6,
   "metadata": {
    "execution": {
     "iopub.execute_input": "2020-09-01T14:21:23.506558Z",
     "iopub.status.busy": "2020-09-01T14:21:23.505797Z",
     "iopub.status.idle": "2020-09-01T14:21:23.512408Z",
     "shell.execute_reply": "2020-09-01T14:21:23.511794Z"
    },
    "papermill": {
     "duration": 0.030854,
     "end_time": "2020-09-01T14:21:23.512535",
     "exception": false,
     "start_time": "2020-09-01T14:21:23.481681",
     "status": "completed"
    },
    "tags": []
   },
   "outputs": [
    {
     "data": {
      "text/plain": [
       "Credit_History       50\n",
       "Self_Employed        32\n",
       "LoanAmount           22\n",
       "Dependents           15\n",
       "Loan_Amount_Term     14\n",
       "Gender               13\n",
       "Married               3\n",
       "Loan_Status           0\n",
       "Property_Area         0\n",
       "CoapplicantIncome     0\n",
       "ApplicantIncome       0\n",
       "Education             0\n",
       "Loan_ID               0\n",
       "dtype: int64"
      ]
     },
     "execution_count": 6,
     "metadata": {},
     "output_type": "execute_result"
    }
   ],
   "source": [
    "train.isnull().sum().sort_values(ascending=False)"
   ]
  },
  {
   "cell_type": "markdown",
   "execution_count": null,
   "metadata": {
    "papermill": {
     "duration": 0.0144,
     "end_time": "2020-09-01T14:21:23.541826",
     "exception": false,
     "start_time": "2020-09-01T14:21:23.527426",
     "status": "completed"
    },
    "tags": []
   },
   "source": [
    "### Quick observation on the combined data\n",
    "- Total loaner: 614\n",
    "- Feature that can be dropped from training immediately:\n",
    "    - **Loan_ID**\n",
    "- The **Loan_Status** feature, as target array, can be used as a reference to fill missing values, so we will not drop it immediately.\n",
    "- The **Dependents** feature is given in categorical but contain numerical variables. Therefore, we have to converted it to numerical variables.\n",
    "- The **Credit_History** feature is given in numerical, with 1 means 'Yes' and 0 means 'No'. We will converted it to categorical feature.\n",
    "- Features that have missing values:\n",
    "    - **Credit_History:**        50\n",
    "    - **Self_Employed:**         32\n",
    "    - **LoanAmount:**            22\n",
    "    - **Dependents:**            15\n",
    "    - **Gender:**                14\n",
    "    - **Loan_Amount_Term:**      13\n",
    "    - **Married:**                3"
   ]
  },
  {
   "cell_type": "markdown",
   "execution_count": null,
   "metadata": {
    "papermill": {
     "duration": 0.014559,
     "end_time": "2020-09-01T14:21:23.571171",
     "exception": false,
     "start_time": "2020-09-01T14:21:23.556612",
     "status": "completed"
    },
    "tags": []
   },
   "source": [
    "### Plot The Distribution of Numerical Features"
   ]
  },
  {
   "cell_type": "code",
   "execution_count": 7,
   "metadata": {
    "execution": {
     "iopub.execute_input": "2020-09-01T14:21:23.607818Z",
     "iopub.status.busy": "2020-09-01T14:21:23.606946Z",
     "iopub.status.idle": "2020-09-01T14:21:26.141205Z",
     "shell.execute_reply": "2020-09-01T14:21:26.142338Z"
    },
    "papermill": {
     "duration": 2.556365,
     "end_time": "2020-09-01T14:21:26.142564",
     "exception": false,
     "start_time": "2020-09-01T14:21:23.586199",
     "status": "completed"
    },
    "tags": []
   },
   "outputs": [
    {
     "data": {
      "image/png": "[encoded data removed]",
      "text/plain": [
       "<Figure size 720x720 with 6 Axes>"
      ]
     },
     "metadata": {},
     "output_type": "display_data"
    }
   ],
   "source": [
    "#plot the distribution of numerical features\n",
    "train.hist(bins=50,figsize=(10,10),grid=False)\n",
    "plt.tight_layout()\n",
    "plt.show()"
   ]
  },
  {
   "cell_type": "markdown",
   "execution_count": null,
   "metadata": {
    "papermill": {
     "duration": 0.017243,
     "end_time": "2020-09-01T14:21:26.178307",
     "exception": false,
     "start_time": "2020-09-01T14:21:26.161064",
     "status": "completed"
    },
    "tags": []
   },
   "source": [
    "We can see we got right-skewed and left-skewed. We will fix this in the next step by taking the log of the values to make it normally distributed. By making it normally distributed, we can improve our model."
   ]
  },
  {
   "cell_type": "markdown",
   "execution_count": null,
   "metadata": {
    "papermill": {
     "duration": 0.016149,
     "end_time": "2020-09-01T14:21:26.213180",
     "exception": false,
     "start_time": "2020-09-01T14:21:26.197031",
     "status": "completed"
    },
    "tags": []
   },
   "source": [
    "# Exploratory Data Analysis"
   ]
  },
  {
   "cell_type": "markdown",
   "execution_count": null,
   "metadata": {
    "papermill": {
     "duration": 0.021109,
     "end_time": "2020-09-01T14:21:26.255681",
     "exception": false,
     "start_time": "2020-09-01T14:21:26.234572",
     "status": "completed"
    },
    "tags": []
   },
   "source": [
    "### Drop Features"
   ]
  },
  {
   "cell_type": "code",
   "execution_count": 8,
   "metadata": {
    "execution": {
     "iopub.execute_input": "2020-09-01T14:21:26.300660Z",
     "iopub.status.busy": "2020-09-01T14:21:26.299583Z",
     "iopub.status.idle": "2020-09-01T14:21:26.303412Z",
     "shell.execute_reply": "2020-09-01T14:21:26.302499Z"
    },
    "papermill": {
     "duration": 0.029892,
     "end_time": "2020-09-01T14:21:26.303575",
     "exception": false,
     "start_time": "2020-09-01T14:21:26.273683",
     "status": "completed"
    },
    "tags": []
   },
   "outputs": [],
   "source": [
    "#drop feature\n",
    "train.drop(['Loan_ID'], axis=1, inplace=True)"
   ]
  },
  {
   "cell_type": "markdown",
   "execution_count": null,
   "metadata": {
    "papermill": {
     "duration": 0.015886,
     "end_time": "2020-09-01T14:21:26.339182",
     "exception": false,
     "start_time": "2020-09-01T14:21:26.323296",
     "status": "completed"
    },
    "tags": []
   },
   "source": [
    "### Change to Numerical"
   ]
  },
  {
   "cell_type": "code",
   "execution_count": 9,
   "metadata": {
    "execution": {
     "iopub.execute_input": "2020-09-01T14:21:26.380512Z",
     "iopub.status.busy": "2020-09-01T14:21:26.379354Z",
     "iopub.status.idle": "2020-09-01T14:21:26.385818Z",
     "shell.execute_reply": "2020-09-01T14:21:26.384861Z"
    },
    "papermill": {
     "duration": 0.03072,
     "end_time": "2020-09-01T14:21:26.385992",
     "exception": false,
     "start_time": "2020-09-01T14:21:26.355272",
     "status": "completed"
    },
    "tags": []
   },
   "outputs": [
    {
     "data": {
      "text/plain": [
       "array(['0', '1', '2', '3+', nan], dtype=object)"
      ]
     },
     "execution_count": 9,
     "metadata": {},
     "output_type": "execute_result"
    }
   ],
   "source": [
    "#check unique values\n",
    "train['Dependents'].unique()"
   ]
  },
  {
   "cell_type": "code",
   "execution_count": 10,
   "metadata": {
    "execution": {
     "iopub.execute_input": "2020-09-01T14:21:26.428355Z",
     "iopub.status.busy": "2020-09-01T14:21:26.427489Z",
     "iopub.status.idle": "2020-09-01T14:21:26.431243Z",
     "shell.execute_reply": "2020-09-01T14:21:26.430480Z"
    },
    "papermill": {
     "duration": 0.027535,
     "end_time": "2020-09-01T14:21:26.431377",
     "exception": false,
     "start_time": "2020-09-01T14:21:26.403842",
     "status": "completed"
    },
    "tags": []
   },
   "outputs": [],
   "source": [
    "#replace '3+' with '3'\n",
    "train['Dependents'].replace('3+', '3', inplace=True)\n",
    "\n",
    "#change to numerical\n",
    "train['Dependents'] = train['Dependents'].astype('float')"
   ]
  },
  {
   "cell_type": "markdown",
   "execution_count": null,
   "metadata": {
    "papermill": {
     "duration": 0.015488,
     "end_time": "2020-09-01T14:21:26.462659",
     "exception": false,
     "start_time": "2020-09-01T14:21:26.447171",
     "status": "completed"
    },
    "tags": []
   },
   "source": [
    "### Changet to Categorical"
   ]
  },
  {
   "cell_type": "code",
   "execution_count": 11,
   "metadata": {
    "execution": {
     "iopub.execute_input": "2020-09-01T14:21:26.501481Z",
     "iopub.status.busy": "2020-09-01T14:21:26.500561Z",
     "iopub.status.idle": "2020-09-01T14:21:26.505763Z",
     "shell.execute_reply": "2020-09-01T14:21:26.505010Z"
    },
    "papermill": {
     "duration": 0.027434,
     "end_time": "2020-09-01T14:21:26.505891",
     "exception": false,
     "start_time": "2020-09-01T14:21:26.478457",
     "status": "completed"
    },
    "tags": []
   },
   "outputs": [
    {
     "data": {
      "text/plain": [
       "array([ 1.,  0., nan])"
      ]
     },
     "execution_count": 11,
     "metadata": {},
     "output_type": "execute_result"
    }
   ],
   "source": [
    "#check unique values\n",
    "train['Credit_History'].unique()"
   ]
  },
  {
   "cell_type": "code",
   "execution_count": 12,
   "metadata": {
    "execution": {
     "iopub.execute_input": "2020-09-01T14:21:26.546163Z",
     "iopub.status.busy": "2020-09-01T14:21:26.545194Z",
     "iopub.status.idle": "2020-09-01T14:21:26.549627Z",
     "shell.execute_reply": "2020-09-01T14:21:26.548940Z"
    },
    "papermill": {
     "duration": 0.027869,
     "end_time": "2020-09-01T14:21:26.549751",
     "exception": false,
     "start_time": "2020-09-01T14:21:26.521882",
     "status": "completed"
    },
    "tags": []
   },
   "outputs": [],
   "source": [
    "#replace 1.0 with 'Y' and 0.0 with 'N'\n",
    "train['Credit_History'].replace({1.: 'Y', 0.: 'N'}, inplace=True)\n",
    "\n",
    "#change to categorical\n",
    "train['Credit_History'] = train['Credit_History'].astype('object')"
   ]
  },
  {
   "cell_type": "markdown",
   "execution_count": null,
   "metadata": {
    "papermill": {
     "duration": 0.015586,
     "end_time": "2020-09-01T14:21:26.581593",
     "exception": false,
     "start_time": "2020-09-01T14:21:26.566007",
     "status": "completed"
    },
    "tags": []
   },
   "source": [
    "### Fill Missing Value: "
   ]
  },
  {
   "cell_type": "markdown",
   "execution_count": null,
   "metadata": {
    "papermill": {
     "duration": 0.015647,
     "end_time": "2020-09-01T14:21:26.613135",
     "exception": false,
     "start_time": "2020-09-01T14:21:26.597488",
     "status": "completed"
    },
    "tags": []
   },
   "source": [
    "- Fill with mode()"
   ]
  },
  {
   "cell_type": "code",
   "execution_count": 13,
   "metadata": {
    "execution": {
     "iopub.execute_input": "2020-09-01T14:21:26.656584Z",
     "iopub.status.busy": "2020-09-01T14:21:26.655463Z",
     "iopub.status.idle": "2020-09-01T14:21:26.659413Z",
     "shell.execute_reply": "2020-09-01T14:21:26.658606Z"
    },
    "papermill": {
     "duration": 0.030436,
     "end_time": "2020-09-01T14:21:26.659553",
     "exception": false,
     "start_time": "2020-09-01T14:21:26.629117",
     "status": "completed"
    },
    "tags": []
   },
   "outputs": [],
   "source": [
    "#fill missing values with mode \n",
    "features_fill_with_mode = ['Self_Employed',\n",
    "                           'Dependents',\n",
    "                           'Gender',\n",
    "                           'Loan_Amount_Term']\n",
    "\n",
    "for feature in features_fill_with_mode:\n",
    "    train[feature].fillna(train[feature].mode()[0], inplace=True)"
   ]
  },
  {
   "cell_type": "markdown",
   "execution_count": null,
   "metadata": {
    "papermill": {
     "duration": 0.015835,
     "end_time": "2020-09-01T14:21:26.691941",
     "exception": false,
     "start_time": "2020-09-01T14:21:26.676106",
     "status": "completed"
    },
    "tags": []
   },
   "source": [
    "- Fill with mean()"
   ]
  },
  {
   "cell_type": "code",
   "execution_count": 14,
   "metadata": {
    "execution": {
     "iopub.execute_input": "2020-09-01T14:21:26.731718Z",
     "iopub.status.busy": "2020-09-01T14:21:26.730738Z",
     "iopub.status.idle": "2020-09-01T14:21:26.734033Z",
     "shell.execute_reply": "2020-09-01T14:21:26.733296Z"
    },
    "papermill": {
     "duration": 0.026097,
     "end_time": "2020-09-01T14:21:26.734179",
     "exception": false,
     "start_time": "2020-09-01T14:21:26.708082",
     "status": "completed"
    },
    "tags": []
   },
   "outputs": [],
   "source": [
    "#fill missing values with mean\n",
    "train['LoanAmount'].fillna(train['LoanAmount'].mean(), inplace=True)"
   ]
  },
  {
   "cell_type": "markdown",
   "execution_count": null,
   "metadata": {
    "papermill": {
     "duration": 0.015848,
     "end_time": "2020-09-01T14:21:26.766201",
     "exception": false,
     "start_time": "2020-09-01T14:21:26.750353",
     "status": "completed"
    },
    "tags": []
   },
   "source": [
    "- Credit_History Feature\n",
    "\n",
    "Before we fill missing values in Credit_History feature, we will take a deeper look by plotting it."
   ]
  },
  {
   "cell_type": "code",
   "execution_count": 15,
   "metadata": {
    "execution": {
     "iopub.execute_input": "2020-09-01T14:21:26.817965Z",
     "iopub.status.busy": "2020-09-01T14:21:26.817018Z",
     "iopub.status.idle": "2020-09-01T14:21:26.993805Z",
     "shell.execute_reply": "2020-09-01T14:21:26.992970Z"
    },
    "papermill": {
     "duration": 0.211519,
     "end_time": "2020-09-01T14:21:26.993939",
     "exception": false,
     "start_time": "2020-09-01T14:21:26.782420",
     "status": "completed"
    },
    "tags": []
   },
   "outputs": [
    {
     "data": {
      "image/png": "[encoded data removed]",
      "text/plain": [
       "<Figure size 432x288 with 1 Axes>"
      ]
     },
     "metadata": {},
     "output_type": "display_data"
    }
   ],
   "source": [
    "sns.countplot(x='Credit_History', hue='Loan_Status', data=train);"
   ]
  },
  {
   "cell_type": "markdown",
   "execution_count": null,
   "metadata": {
    "papermill": {
     "duration": 0.015904,
     "end_time": "2020-09-01T14:21:27.026609",
     "exception": false,
     "start_time": "2020-09-01T14:21:27.010705",
     "status": "completed"
    },
    "tags": []
   },
   "source": [
    "From the plot above, we can see that Credit_History is important feature. Most people with 0 credit history didn't get a loan. But, most people who got credit history have so much better chance to get a loan.\n",
    "\n",
    "Since Credit_History = 'Y' is the value that appears most often in both Loan_Status, so we will fill missing values with 'Y' "
   ]
  },
  {
   "cell_type": "code",
   "execution_count": 16,
   "metadata": {
    "execution": {
     "iopub.execute_input": "2020-09-01T14:21:27.066097Z",
     "iopub.status.busy": "2020-09-01T14:21:27.065273Z",
     "iopub.status.idle": "2020-09-01T14:21:27.068879Z",
     "shell.execute_reply": "2020-09-01T14:21:27.068312Z"
    },
    "papermill": {
     "duration": 0.026138,
     "end_time": "2020-09-01T14:21:27.069014",
     "exception": false,
     "start_time": "2020-09-01T14:21:27.042876",
     "status": "completed"
    },
    "tags": []
   },
   "outputs": [],
   "source": [
    "train['Credit_History'].fillna('Y', inplace=True)"
   ]
  },
  {
   "cell_type": "markdown",
   "execution_count": null,
   "metadata": {
    "papermill": {
     "duration": 0.015998,
     "end_time": "2020-09-01T14:21:27.101351",
     "exception": false,
     "start_time": "2020-09-01T14:21:27.085353",
     "status": "completed"
    },
    "tags": []
   },
   "source": [
    "- Married Feature\n",
    "\n",
    "For start, we will check if the missing values in the Married feature have Dependets or CoapplicantIncome more than 0, and fill it with 'Yes' if true and 'No' if otherwise."
   ]
  },
  {
   "cell_type": "code",
   "execution_count": 17,
   "metadata": {
    "execution": {
     "iopub.execute_input": "2020-09-01T14:21:27.152978Z",
     "iopub.status.busy": "2020-09-01T14:21:27.151902Z",
     "iopub.status.idle": "2020-09-01T14:21:27.156353Z",
     "shell.execute_reply": "2020-09-01T14:21:27.156894Z"
    },
    "papermill": {
     "duration": 0.039402,
     "end_time": "2020-09-01T14:21:27.157084",
     "exception": false,
     "start_time": "2020-09-01T14:21:27.117682",
     "status": "completed"
    },
    "tags": []
   },
   "outputs": [
    {
     "data": {
      "text/html": [
       "<div>\n",
       "<style scoped>\n",
       "    .dataframe tbody tr th:only-of-type {\n",
       "        vertical-align: middle;\n",
       "    }\n",
       "\n",
       "    .dataframe tbody tr th {\n",
       "        vertical-align: top;\n",
       "    }\n",
       "\n",
       "    .dataframe thead th {\n",
       "        text-align: right;\n",
       "    }\n",
       "</style>\n",
       "<table border=\"1\" class=\"dataframe\">\n",
       "  <thead>\n",
       "    <tr style=\"text-align: right;\">\n",
       "      <th></th>\n",
       "      <th>Married</th>\n",
       "      <th>Dependents</th>\n",
       "      <th>CoapplicantIncome</th>\n",
       "    </tr>\n",
       "  </thead>\n",
       "  <tbody>\n",
       "    <tr>\n",
       "      <th>104</th>\n",
       "      <td>NaN</td>\n",
       "      <td>0.0</td>\n",
       "      <td>754.0</td>\n",
       "    </tr>\n",
       "  </tbody>\n",
       "</table>\n",
       "</div>"
      ],
      "text/plain": [
       "    Married  Dependents  CoapplicantIncome\n",
       "104     NaN         0.0              754.0"
      ]
     },
     "execution_count": 17,
     "metadata": {},
     "output_type": "execute_result"
    }
   ],
   "source": [
    "#check Dependents and CoapplicantIncome\n",
    "mask = ((train['Dependents'] > 0) | (train['CoapplicantIncome'] > 0)) \\\n",
    "        & \\\n",
    "        train['Married'].isnull()\n",
    "\n",
    "train[mask][['Married','Dependents','CoapplicantIncome']]"
   ]
  },
  {
   "cell_type": "code",
   "execution_count": 18,
   "metadata": {
    "execution": {
     "iopub.execute_input": "2020-09-01T14:21:27.198501Z",
     "iopub.status.busy": "2020-09-01T14:21:27.197669Z",
     "iopub.status.idle": "2020-09-01T14:21:27.201472Z",
     "shell.execute_reply": "2020-09-01T14:21:27.200702Z"
    },
    "papermill": {
     "duration": 0.028076,
     "end_time": "2020-09-01T14:21:27.201605",
     "exception": false,
     "start_time": "2020-09-01T14:21:27.173529",
     "status": "completed"
    },
    "tags": []
   },
   "outputs": [],
   "source": [
    "#Fill missing values\n",
    "train.loc[mask,'Married'] = 'Yes'\n",
    "train['Married'].fillna('No', inplace=True)"
   ]
  },
  {
   "cell_type": "markdown",
   "execution_count": null,
   "metadata": {
    "papermill": {
     "duration": 0.016241,
     "end_time": "2020-09-01T14:21:27.234462",
     "exception": false,
     "start_time": "2020-09-01T14:21:27.218221",
     "status": "completed"
    },
    "tags": []
   },
   "source": [
    "### Target Array\n",
    "let's look at the target distribution"
   ]
  },
  {
   "cell_type": "code",
   "execution_count": 19,
   "metadata": {
    "execution": {
     "iopub.execute_input": "2020-09-01T14:21:27.282026Z",
     "iopub.status.busy": "2020-09-01T14:21:27.275724Z",
     "iopub.status.idle": "2020-09-01T14:21:27.425477Z",
     "shell.execute_reply": "2020-09-01T14:21:27.424793Z"
    },
    "papermill": {
     "duration": 0.174511,
     "end_time": "2020-09-01T14:21:27.425607",
     "exception": false,
     "start_time": "2020-09-01T14:21:27.251096",
     "status": "completed"
    },
    "tags": []
   },
   "outputs": [
    {
     "data": {
      "image/png": "[encoded data removed]",
      "text/plain": [
       "<Figure size 432x288 with 1 Axes>"
      ]
     },
     "metadata": {},
     "output_type": "display_data"
    }
   ],
   "source": [
    "sns.countplot(train['Loan_Status']);"
   ]
  },
  {
   "cell_type": "markdown",
   "execution_count": null,
   "metadata": {
    "papermill": {
     "duration": 0.016429,
     "end_time": "2020-09-01T14:21:27.459021",
     "exception": false,
     "start_time": "2020-09-01T14:21:27.442592",
     "status": "completed"
    },
    "tags": []
   },
   "source": [
    "From the distribution above, we can consider that the data is not imbalanced. So, we can straight to the next step: change it to numerical feature."
   ]
  },
  {
   "cell_type": "code",
   "execution_count": 20,
   "metadata": {
    "execution": {
     "iopub.execute_input": "2020-09-01T14:21:27.505861Z",
     "iopub.status.busy": "2020-09-01T14:21:27.504762Z",
     "iopub.status.idle": "2020-09-01T14:21:27.905577Z",
     "shell.execute_reply": "2020-09-01T14:21:27.906204Z"
    },
    "papermill": {
     "duration": 0.430397,
     "end_time": "2020-09-01T14:21:27.906367",
     "exception": false,
     "start_time": "2020-09-01T14:21:27.475970",
     "status": "completed"
    },
    "tags": []
   },
   "outputs": [
    {
     "data": {
      "image/png": "[encoded data removed]",
      "text/plain": [
       "<Figure size 432x288 with 2 Axes>"
      ]
     },
     "metadata": {},
     "output_type": "display_data"
    }
   ],
   "source": [
    "#transform to numerical\n",
    "train['Loan_Status'] = train['Loan_Status'].apply(lambda x: 1 if x=='Y' else 0)\n",
    "\n",
    "#correlation\n",
    "sns.heatmap(train.corr(),annot=True);"
   ]
  },
  {
   "cell_type": "code",
   "execution_count": 21,
   "metadata": {
    "execution": {
     "iopub.execute_input": "2020-09-01T14:21:27.949235Z",
     "iopub.status.busy": "2020-09-01T14:21:27.948460Z",
     "iopub.status.idle": "2020-09-01T14:21:27.952179Z",
     "shell.execute_reply": "2020-09-01T14:21:27.951514Z"
    },
    "papermill": {
     "duration": 0.028389,
     "end_time": "2020-09-01T14:21:27.952309",
     "exception": false,
     "start_time": "2020-09-01T14:21:27.923920",
     "status": "completed"
    },
    "tags": []
   },
   "outputs": [],
   "source": [
    "#copy \n",
    "target_array = train['Loan_Status'].copy()\n",
    "\n",
    "#drop\n",
    "train.drop(['Loan_Status'], axis=1, inplace=True)"
   ]
  },
  {
   "cell_type": "markdown",
   "execution_count": null,
   "metadata": {
    "papermill": {
     "duration": 0.016996,
     "end_time": "2020-09-01T14:21:27.986827",
     "exception": false,
     "start_time": "2020-09-01T14:21:27.969831",
     "status": "completed"
    },
    "tags": []
   },
   "source": [
    "### Creating new features"
   ]
  },
  {
   "cell_type": "code",
   "execution_count": 22,
   "metadata": {
    "execution": {
     "iopub.execute_input": "2020-09-01T14:21:28.031777Z",
     "iopub.status.busy": "2020-09-01T14:21:28.029982Z",
     "iopub.status.idle": "2020-09-01T14:21:28.036976Z",
     "shell.execute_reply": "2020-09-01T14:21:28.036345Z"
    },
    "papermill": {
     "duration": 0.032256,
     "end_time": "2020-09-01T14:21:28.037125",
     "exception": false,
     "start_time": "2020-09-01T14:21:28.004869",
     "status": "completed"
    },
    "tags": []
   },
   "outputs": [],
   "source": [
    "#create total income feature\n",
    "train['Total_Income'] = train['ApplicantIncome'] + train['CoapplicantIncome']\n",
    "\n",
    "#create average loan amount feature (per day)\n",
    "train['Loan_Amount_Avg'] = train['LoanAmount'] / train['Loan_Amount_Term']\n",
    "\n",
    "#drop\n",
    "train.drop(['ApplicantIncome','CoapplicantIncome'], axis=1, inplace=True)"
   ]
  },
  {
   "cell_type": "markdown",
   "execution_count": null,
   "metadata": {
    "papermill": {
     "duration": 0.017418,
     "end_time": "2020-09-01T14:21:28.072225",
     "exception": false,
     "start_time": "2020-09-01T14:21:28.054807",
     "status": "completed"
    },
    "tags": []
   },
   "source": [
    "### Epilogue"
   ]
  },
  {
   "cell_type": "markdown",
   "execution_count": null,
   "metadata": {
    "papermill": {
     "duration": 0.017092,
     "end_time": "2020-09-01T14:21:28.106868",
     "exception": false,
     "start_time": "2020-09-01T14:21:28.089776",
     "status": "completed"
    },
    "tags": []
   },
   "source": [
    "- Chech for any missing values"
   ]
  },
  {
   "cell_type": "code",
   "execution_count": 23,
   "metadata": {
    "execution": {
     "iopub.execute_input": "2020-09-01T14:21:28.150961Z",
     "iopub.status.busy": "2020-09-01T14:21:28.149877Z",
     "iopub.status.idle": "2020-09-01T14:21:28.155259Z",
     "shell.execute_reply": "2020-09-01T14:21:28.154431Z"
    },
    "papermill": {
     "duration": 0.030681,
     "end_time": "2020-09-01T14:21:28.155433",
     "exception": false,
     "start_time": "2020-09-01T14:21:28.124752",
     "status": "completed"
    },
    "tags": []
   },
   "outputs": [
    {
     "name": "stdout",
     "output_type": "stream",
     "text": [
      "0\n"
     ]
    }
   ],
   "source": [
    "#missing values\n",
    "print(train.isnull().any().sum())"
   ]
  },
  {
   "cell_type": "markdown",
   "execution_count": null,
   "metadata": {
    "papermill": {
     "duration": 0.017415,
     "end_time": "2020-09-01T14:21:28.191363",
     "exception": false,
     "start_time": "2020-09-01T14:21:28.173948",
     "status": "completed"
    },
    "tags": []
   },
   "source": [
    "- Normality Test"
   ]
  },
  {
   "cell_type": "code",
   "execution_count": 24,
   "metadata": {
    "execution": {
     "iopub.execute_input": "2020-09-01T14:21:28.235096Z",
     "iopub.status.busy": "2020-09-01T14:21:28.234000Z",
     "iopub.status.idle": "2020-09-01T14:21:28.237279Z",
     "shell.execute_reply": "2020-09-01T14:21:28.236632Z"
    },
    "papermill": {
     "duration": 0.028502,
     "end_time": "2020-09-01T14:21:28.237413",
     "exception": false,
     "start_time": "2020-09-01T14:21:28.208911",
     "status": "completed"
    },
    "tags": []
   },
   "outputs": [],
   "source": [
    "#define a normality test function\n",
    "def normalityTest(data, alpha=0.05):\n",
    "    \"\"\"data (array)   : The array containing the sample to be tested.\n",
    "\t   alpha (float)  : Significance level.\n",
    "\t   return True if data is normal distributed\"\"\"\n",
    "    \n",
    "    from scipy import stats\n",
    "    \n",
    "    statistic, p_value = stats.normaltest(data)\n",
    "    \n",
    "    #null hypothesis: array comes from a normal distribution\n",
    "    if p_value < alpha:  \n",
    "        #The null hypothesis can be rejected\n",
    "        is_normal_dist = False\n",
    "    else:\n",
    "        #The null hypothesis cannot be rejected\n",
    "        is_normal_dist = True\n",
    "    \n",
    "    return is_normal_dist"
   ]
  },
  {
   "cell_type": "code",
   "execution_count": 25,
   "metadata": {
    "execution": {
     "iopub.execute_input": "2020-09-01T14:21:28.339578Z",
     "iopub.status.busy": "2020-09-01T14:21:28.338402Z",
     "iopub.status.idle": "2020-09-01T14:21:28.350441Z",
     "shell.execute_reply": "2020-09-01T14:21:28.349621Z"
    },
    "papermill": {
     "duration": 0.043844,
     "end_time": "2020-09-01T14:21:28.350575",
     "exception": false,
     "start_time": "2020-09-01T14:21:28.306731",
     "status": "completed"
    },
    "tags": []
   },
   "outputs": [],
   "source": [
    "#check normality of all numericaal features and transform it if not normal distributed\n",
    "for feature in train.columns:\n",
    "    if (train[feature].dtype != 'object'):\n",
    "        if normalityTest(train[feature]) == False:\n",
    "            train[feature] = np.log1p(train[feature])"
   ]
  },
  {
   "cell_type": "markdown",
   "execution_count": null,
   "metadata": {
    "papermill": {
     "duration": 0.017724,
     "end_time": "2020-09-01T14:21:28.386495",
     "exception": false,
     "start_time": "2020-09-01T14:21:28.368771",
     "status": "completed"
    },
    "tags": []
   },
   "source": [
    "- Creating Dummies"
   ]
  },
  {
   "cell_type": "code",
   "execution_count": 26,
   "metadata": {
    "execution": {
     "iopub.execute_input": "2020-09-01T14:21:28.437209Z",
     "iopub.status.busy": "2020-09-01T14:21:28.435618Z",
     "iopub.status.idle": "2020-09-01T14:21:28.457619Z",
     "shell.execute_reply": "2020-09-01T14:21:28.456991Z"
    },
    "papermill": {
     "duration": 0.052796,
     "end_time": "2020-09-01T14:21:28.457738",
     "exception": false,
     "start_time": "2020-09-01T14:21:28.404942",
     "status": "completed"
    },
    "tags": []
   },
   "outputs": [
    {
     "name": "stdout",
     "output_type": "stream",
     "text": [
      "(614, 12)\n"
     ]
    },
    {
     "data": {
      "text/html": [
       "<div>\n",
       "<style scoped>\n",
       "    .dataframe tbody tr th:only-of-type {\n",
       "        vertical-align: middle;\n",
       "    }\n",
       "\n",
       "    .dataframe tbody tr th {\n",
       "        vertical-align: top;\n",
       "    }\n",
       "\n",
       "    .dataframe thead th {\n",
       "        text-align: right;\n",
       "    }\n",
       "</style>\n",
       "<table border=\"1\" class=\"dataframe\">\n",
       "  <thead>\n",
       "    <tr style=\"text-align: right;\">\n",
       "      <th></th>\n",
       "      <th>Dependents</th>\n",
       "      <th>LoanAmount</th>\n",
       "      <th>Loan_Amount_Term</th>\n",
       "      <th>Total_Income</th>\n",
       "      <th>Loan_Amount_Avg</th>\n",
       "      <th>Gender_Male</th>\n",
       "      <th>Married_Yes</th>\n",
       "      <th>Education_Not Graduate</th>\n",
       "      <th>Self_Employed_Yes</th>\n",
       "      <th>Credit_History_Y</th>\n",
       "      <th>Property_Area_Semiurban</th>\n",
       "      <th>Property_Area_Urban</th>\n",
       "    </tr>\n",
       "  </thead>\n",
       "  <tbody>\n",
       "    <tr>\n",
       "      <th>0</th>\n",
       "      <td>0.000000</td>\n",
       "      <td>4.993232</td>\n",
       "      <td>5.888878</td>\n",
       "      <td>8.674197</td>\n",
       "      <td>0.341247</td>\n",
       "      <td>1</td>\n",
       "      <td>0</td>\n",
       "      <td>0</td>\n",
       "      <td>0</td>\n",
       "      <td>1</td>\n",
       "      <td>0</td>\n",
       "      <td>1</td>\n",
       "    </tr>\n",
       "    <tr>\n",
       "      <th>1</th>\n",
       "      <td>0.693147</td>\n",
       "      <td>4.859812</td>\n",
       "      <td>5.888878</td>\n",
       "      <td>8.714732</td>\n",
       "      <td>0.304211</td>\n",
       "      <td>1</td>\n",
       "      <td>1</td>\n",
       "      <td>0</td>\n",
       "      <td>0</td>\n",
       "      <td>1</td>\n",
       "      <td>0</td>\n",
       "      <td>0</td>\n",
       "    </tr>\n",
       "    <tr>\n",
       "      <th>2</th>\n",
       "      <td>0.000000</td>\n",
       "      <td>4.204693</td>\n",
       "      <td>5.888878</td>\n",
       "      <td>8.006701</td>\n",
       "      <td>0.168335</td>\n",
       "      <td>1</td>\n",
       "      <td>1</td>\n",
       "      <td>0</td>\n",
       "      <td>1</td>\n",
       "      <td>1</td>\n",
       "      <td>0</td>\n",
       "      <td>1</td>\n",
       "    </tr>\n",
       "    <tr>\n",
       "      <th>3</th>\n",
       "      <td>0.000000</td>\n",
       "      <td>4.795791</td>\n",
       "      <td>5.888878</td>\n",
       "      <td>8.505525</td>\n",
       "      <td>0.287682</td>\n",
       "      <td>1</td>\n",
       "      <td>1</td>\n",
       "      <td>1</td>\n",
       "      <td>0</td>\n",
       "      <td>1</td>\n",
       "      <td>0</td>\n",
       "      <td>1</td>\n",
       "    </tr>\n",
       "    <tr>\n",
       "      <th>4</th>\n",
       "      <td>0.000000</td>\n",
       "      <td>4.955827</td>\n",
       "      <td>5.888878</td>\n",
       "      <td>8.699681</td>\n",
       "      <td>0.330502</td>\n",
       "      <td>1</td>\n",
       "      <td>0</td>\n",
       "      <td>0</td>\n",
       "      <td>0</td>\n",
       "      <td>1</td>\n",
       "      <td>0</td>\n",
       "      <td>1</td>\n",
       "    </tr>\n",
       "  </tbody>\n",
       "</table>\n",
       "</div>"
      ],
      "text/plain": [
       "   Dependents  LoanAmount  Loan_Amount_Term  Total_Income  Loan_Amount_Avg  \\\n",
       "0    0.000000    4.993232          5.888878      8.674197         0.341247   \n",
       "1    0.693147    4.859812          5.888878      8.714732         0.304211   \n",
       "2    0.000000    4.204693          5.888878      8.006701         0.168335   \n",
       "3    0.000000    4.795791          5.888878      8.505525         0.287682   \n",
       "4    0.000000    4.955827          5.888878      8.699681         0.330502   \n",
       "\n",
       "   Gender_Male  Married_Yes  Education_Not Graduate  Self_Employed_Yes  \\\n",
       "0            1            0                       0                  0   \n",
       "1            1            1                       0                  0   \n",
       "2            1            1                       0                  1   \n",
       "3            1            1                       1                  0   \n",
       "4            1            0                       0                  0   \n",
       "\n",
       "   Credit_History_Y  Property_Area_Semiurban  Property_Area_Urban  \n",
       "0                 1                        0                    1  \n",
       "1                 1                        0                    0  \n",
       "2                 1                        0                    1  \n",
       "3                 1                        0                    1  \n",
       "4                 1                        0                    1  "
      ]
     },
     "metadata": {},
     "output_type": "display_data"
    }
   ],
   "source": [
    "#create dummies\n",
    "train = pd.get_dummies(train, drop_first=True)\n",
    "\n",
    "print(train.shape)\n",
    "display(train.head())"
   ]
  },
  {
   "cell_type": "markdown",
   "execution_count": null,
   "metadata": {
    "papermill": {
     "duration": 0.017677,
     "end_time": "2020-09-01T14:21:28.493501",
     "exception": false,
     "start_time": "2020-09-01T14:21:28.475824",
     "status": "completed"
    },
    "tags": []
   },
   "source": [
    "- Creating features matrix (X) and target array (y)"
   ]
  },
  {
   "cell_type": "code",
   "execution_count": 27,
   "metadata": {
    "execution": {
     "iopub.execute_input": "2020-09-01T14:21:28.536628Z",
     "iopub.status.busy": "2020-09-01T14:21:28.535512Z",
     "iopub.status.idle": "2020-09-01T14:21:28.538501Z",
     "shell.execute_reply": "2020-09-01T14:21:28.539016Z"
    },
    "papermill": {
     "duration": 0.026964,
     "end_time": "2020-09-01T14:21:28.539210",
     "exception": false,
     "start_time": "2020-09-01T14:21:28.512246",
     "status": "completed"
    },
    "tags": []
   },
   "outputs": [],
   "source": [
    "X = train\n",
    "y = target_array"
   ]
  },
  {
   "cell_type": "markdown",
   "execution_count": null,
   "metadata": {
    "papermill": {
     "duration": 0.018019,
     "end_time": "2020-09-01T14:21:28.575671",
     "exception": false,
     "start_time": "2020-09-01T14:21:28.557652",
     "status": "completed"
    },
    "tags": []
   },
   "source": [
    "# Creating a Model\n",
    "We begin by splitting data into two subsets: for training data and for testing data."
   ]
  },
  {
   "cell_type": "code",
   "execution_count": 28,
   "metadata": {
    "execution": {
     "iopub.execute_input": "2020-09-01T14:21:28.618412Z",
     "iopub.status.busy": "2020-09-01T14:21:28.617663Z",
     "iopub.status.idle": "2020-09-01T14:21:28.735467Z",
     "shell.execute_reply": "2020-09-01T14:21:28.734657Z"
    },
    "papermill": {
     "duration": 0.141625,
     "end_time": "2020-09-01T14:21:28.735602",
     "exception": false,
     "start_time": "2020-09-01T14:21:28.593977",
     "status": "completed"
    },
    "tags": []
   },
   "outputs": [],
   "source": [
    "from sklearn.model_selection import train_test_split\n",
    "\n",
    "X_train, X_test, y_train, y_test = train_test_split(X, y, test_size=0.33, random_state = 0)"
   ]
  },
  {
   "cell_type": "markdown",
   "execution_count": null,
   "metadata": {
    "papermill": {
     "duration": 0.017963,
     "end_time": "2020-09-01T14:21:28.772033",
     "exception": false,
     "start_time": "2020-09-01T14:21:28.754070",
     "status": "completed"
    },
    "tags": []
   },
   "source": [
    "Model training : Decision Tree Classifier"
   ]
  },
  {
   "cell_type": "code",
   "execution_count": 29,
   "metadata": {
    "execution": {
     "iopub.execute_input": "2020-09-01T14:21:28.814246Z",
     "iopub.status.busy": "2020-09-01T14:21:28.813496Z",
     "iopub.status.idle": "2020-09-01T14:21:28.997824Z",
     "shell.execute_reply": "2020-09-01T14:21:28.996973Z"
    },
    "papermill": {
     "duration": 0.207496,
     "end_time": "2020-09-01T14:21:28.997958",
     "exception": false,
     "start_time": "2020-09-01T14:21:28.790462",
     "status": "completed"
    },
    "tags": []
   },
   "outputs": [],
   "source": [
    "from sklearn.tree import DecisionTreeClassifier\n",
    "\n",
    "#create a model\n",
    "model = DecisionTreeClassifier()"
   ]
  },
  {
   "cell_type": "code",
   "execution_count": 30,
   "metadata": {
    "execution": {
     "iopub.execute_input": "2020-09-01T14:21:29.046962Z",
     "iopub.status.busy": "2020-09-01T14:21:29.045764Z",
     "iopub.status.idle": "2020-09-01T14:21:29.276227Z",
     "shell.execute_reply": "2020-09-01T14:21:29.275482Z"
    },
    "papermill": {
     "duration": 0.259596,
     "end_time": "2020-09-01T14:21:29.276353",
     "exception": false,
     "start_time": "2020-09-01T14:21:29.016757",
     "status": "completed"
    },
    "tags": []
   },
   "outputs": [
    {
     "name": "stdout",
     "output_type": "stream",
     "text": [
      "{'max_depth': 1, 'random_state': 0}\n",
      "0.8028504260946224\n"
     ]
    }
   ],
   "source": [
    "#search grid for optimal parameters\n",
    "from sklearn.model_selection import GridSearchCV\n",
    "\n",
    "param_grid = {'random_state' : [0,42],\n",
    "              'max_depth': [1,10,100]}\n",
    "\n",
    "grid = GridSearchCV(model, param_grid, cv=5)\n",
    "\n",
    "grid.fit(X_train, y_train)\n",
    "\n",
    "print(grid.best_params_)\n",
    "print(grid.best_score_)"
   ]
  },
  {
   "cell_type": "code",
   "execution_count": 31,
   "metadata": {
    "execution": {
     "iopub.execute_input": "2020-09-01T14:21:29.322663Z",
     "iopub.status.busy": "2020-09-01T14:21:29.321537Z",
     "iopub.status.idle": "2020-09-01T14:21:29.332061Z",
     "shell.execute_reply": "2020-09-01T14:21:29.331286Z"
    },
    "papermill": {
     "duration": 0.037314,
     "end_time": "2020-09-01T14:21:29.332191",
     "exception": false,
     "start_time": "2020-09-01T14:21:29.294877",
     "status": "completed"
    },
    "tags": []
   },
   "outputs": [
    {
     "name": "stdout",
     "output_type": "stream",
     "text": [
      "              precision    recall  f1-score   support\n",
      "\n",
      "           0       0.92      0.41      0.57        58\n",
      "           1       0.81      0.99      0.89       145\n",
      "\n",
      "    accuracy                           0.82       203\n",
      "   macro avg       0.87      0.70      0.73       203\n",
      "weighted avg       0.84      0.82      0.80       203\n",
      "\n"
     ]
    }
   ],
   "source": [
    "from sklearn.metrics import classification_report\n",
    "\n",
    "#use the best model\n",
    "model = grid.best_estimator_\n",
    "\n",
    "#make a prediction\n",
    "y_predict = model.predict(X_test)\n",
    "\n",
    "#calculate classification report\n",
    "print(classification_report(y_test,y_predict))"
   ]
  },
  {
   "cell_type": "code",
   "execution_count": null,
   "metadata": {
    "papermill": {
     "duration": 0.018385,
     "end_time": "2020-09-01T14:21:29.369452",
     "exception": false,
     "start_time": "2020-09-01T14:21:29.351067",
     "status": "completed"
    },
    "tags": []
   },
   "outputs": [],
   "source": []
  }
 ],
 "metadata": {
  "kernelspec": {
   "display_name": "Python 3",
   "language": "python",
   "name": "python3"
  },
  "language_info": {
   "codemirror_mode": {
    "name": "ipython",
    "version": 3
   },
   "file_extension": ".py",
   "mimetype": "text/x-python",
   "name": "python",
   "nbconvert_exporter": "python",
   "pygments_lexer": "ipython3",
   "version": "3.7.6"
  },
  "papermill": {
   "duration": 13.122851,
   "end_time": "2020-09-01T14:21:29.495640",
   "environment_variables": {},
   "exception": null,
   "input_path": "__notebook__.ipynb",
   "output_path": "__notebook__.ipynb",
   "parameters": {},
   "start_time": "2020-09-01T14:21:16.372789",
   "version": "2.1.0"
  }
 },
 "nbformat": 4,
 "nbformat_minor": 4
}
